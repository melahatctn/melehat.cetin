{
 "cells": [
  {
   "cell_type": "code",
   "execution_count": 9,
   "metadata": {},
   "outputs": [
    {
     "name": "stdout",
     "output_type": "stream",
     "text": [
      "1,2,3 ten birini seçiniz; eğer bunların dışında bir rakam seçerseniz programı yeniden başlatmalısınız.\n",
      "Seçtiğiniz sayıyı giriniz : 1/3\n"
     ]
    },
    {
     "ename": "ValueError",
     "evalue": "could not convert string to float: '1/3'",
     "output_type": "error",
     "traceback": [
      "\u001b[1;31m---------------------------------------------------------------------------\u001b[0m",
      "\u001b[1;31mValueError\u001b[0m                                Traceback (most recent call last)",
      "\u001b[1;32m<ipython-input-9-4429e9d5499d>\u001b[0m in \u001b[0;36m<module>\u001b[1;34m()\u001b[0m\n\u001b[0;32m      2\u001b[0m \u001b[0mprint\u001b[0m\u001b[1;33m(\u001b[0m\u001b[1;34m'1,2,3 ten birini seçiniz; eğer bunların dışında bir rakam seçerseniz programı yeniden başlatmalısınız.'\u001b[0m\u001b[1;33m)\u001b[0m\u001b[1;33m\u001b[0m\u001b[0m\n\u001b[0;32m      3\u001b[0m \u001b[1;33m\u001b[0m\u001b[0m\n\u001b[1;32m----> 4\u001b[1;33m \u001b[0mnumber\u001b[0m \u001b[1;33m=\u001b[0m \u001b[0mfloat\u001b[0m\u001b[1;33m(\u001b[0m\u001b[0minput\u001b[0m\u001b[1;33m(\u001b[0m\u001b[1;34m\"Seçtiğiniz sayıyı giriniz : \"\u001b[0m \u001b[1;33m)\u001b[0m\u001b[1;33m)\u001b[0m\u001b[1;33m\u001b[0m\u001b[0m\n\u001b[0m\u001b[0;32m      5\u001b[0m \u001b[1;33m\u001b[0m\u001b[0m\n\u001b[0;32m      6\u001b[0m \u001b[1;32mif\u001b[0m \u001b[0mnumber\u001b[0m \u001b[1;33m==\u001b[0m \u001b[1;36m1\u001b[0m\u001b[1;33m:\u001b[0m\u001b[1;33m\u001b[0m\u001b[0m\n",
      "\u001b[1;31mValueError\u001b[0m: could not convert string to float: '1/3'"
     ]
    }
   ],
   "source": [
    "### homework 2\n",
    "print('1,2,3 ten birini seçiniz; eğer bunların dışında bir rakam seçerseniz programı yeniden başlatmalısınız.')\n",
    "\n",
    "number = float(input(\"Seçtiğiniz sayıyı giriniz : \" ))\n",
    "\n",
    "if number == 1:\n",
    "    print('Bilgilendirme: Bu kısım da üçgenin hipotenüs uzunluğunu hesaplayan programı göreceksiniz. ')\n",
    "    \n",
    "    a= int(input(\" ilk kenar uzunluğunu giriniz: \"))\n",
    "    b= int(input(\" ikinci kenar uzunluğunu giriniz:\"))\n",
    "\n",
    "    \n",
    "    H= (a**2 +b**2)**0.5 \n",
    "    print('hipotenüs:', H)\n",
    "    \n",
    "    \n",
    "if number ==2:\n",
    "    print('Bilgilendirme: Bu kısım da bir sayı gireceksiniz ve girdiğiniz sayıya kadar olan tüm sayılar birden başlayıp sıralanacak.')\n",
    "    i= 1\n",
    "    x= int(input(\"Sayı giriniz :\"))\n",
    "    while x+1 > i:\n",
    "        print('x:',i)\n",
    "        i= i+1\n",
    "     \n",
    "    \n",
    "if number ==3:\n",
    "    print('Bilgilendirme: Bu kısım da 6 tane sayı gireceksiniz ve program bu 6 sayının aritmetik ortalamasını verecek.')\n",
    "    \n",
    "    number1 = int(input(\"1. sayıyı giriniz:\"))\n",
    "    number2 = int(input(\"2. sayıyı giriniz:\"))\n",
    "    number3 = int(input(\"3. sayıyı giriniz:\"))\n",
    "    number4 = int(input(\"4. sayıyı giriniz:\"))\n",
    "    number5 = int(input(\"5. sayıyı giriniz:\"))\n",
    "    number6 = int(input(\"6. sayıyı giriniz:\"))\n",
    "    \n",
    "    print('Sırasıyla girdiğiniz sayılar :', number1,number2,number3,number4,number5,number6)\n",
    "    \n",
    "    A =(number1+number2+number3+number4+number5+number6)/6\n",
    "    print(' Aritmetik Ortalama :', A)\n",
    "    \n"
   ]
  },
  {
   "cell_type": "code",
   "execution_count": null,
   "metadata": {},
   "outputs": [],
   "source": []
  },
  {
   "cell_type": "code",
   "execution_count": null,
   "metadata": {},
   "outputs": [],
   "source": []
  }
 ],
 "metadata": {
  "kernelspec": {
   "display_name": "Python 3",
   "language": "python",
   "name": "python3"
  },
  "language_info": {
   "codemirror_mode": {
    "name": "ipython",
    "version": 3
   },
   "file_extension": ".py",
   "mimetype": "text/x-python",
   "name": "python",
   "nbconvert_exporter": "python",
   "pygments_lexer": "ipython3",
   "version": "3.6.5"
  }
 },
 "nbformat": 4,
 "nbformat_minor": 2
}
