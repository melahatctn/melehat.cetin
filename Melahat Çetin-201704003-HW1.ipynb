{
 "cells": [
  {
   "cell_type": "code",
   "execution_count": null,
   "metadata": {},
   "outputs": [
    {
     "name": "stdout",
     "output_type": "stream",
     "text": [
      "Equation has to be second-order:,(ax**2+b*x+c)\n"
     ]
    }
   ],
   "source": [
    "##find second-order equation roots\n",
    "print('Equation has to be second-order:,(ax**2+b*x+c)')\n",
    "a= int(input(\"Enter the number value of x squared\"))\n",
    "b= int(input(\"Enter the number value of x\"))\n",
    "c= int(input(\"Enter a fixed number\"))\n",
    "discriminant=b**2-4*a*c\n",
    "\n",
    "D= ((b**2)-(4*a*c))\n",
    "print('discriminant :',D)\n",
    "\n",
    "X1= ((((-1)*(b)+(D**0.5)))/(2*a))\n",
    "print('root1 :',X1)\n",
    "                  \n",
    "X2=((((-1)*(b)-(D**0.5)))/(2*a))\n",
    "print('root2 :',X2)\n",
    "\n",
    "if discriminant<0:\n",
    "    print(\"no real root.\")\n",
    "    \n",
    "if discriminant==0:\n",
    "    print(\"there are two rooted stem.\")\n",
    "    \n",
    "  \n",
    "if discriminant>0:\n",
    "    print(\"there are two real roots.\")\n",
    "    "
   ]
  },
  {
   "cell_type": "code",
   "execution_count": null,
   "metadata": {},
   "outputs": [],
   "source": []
  },
  {
   "cell_type": "code",
   "execution_count": null,
   "metadata": {},
   "outputs": [],
   "source": []
  }
 ],
 "metadata": {
  "kernelspec": {
   "display_name": "Python 3",
   "language": "python",
   "name": "python3"
  },
  "language_info": {
   "codemirror_mode": {
    "name": "ipython",
    "version": 3
   },
   "file_extension": ".py",
   "mimetype": "text/x-python",
   "name": "python",
   "nbconvert_exporter": "python",
   "pygments_lexer": "ipython3",
   "version": "3.6.5"
  }
 },
 "nbformat": 4,
 "nbformat_minor": 2
}
