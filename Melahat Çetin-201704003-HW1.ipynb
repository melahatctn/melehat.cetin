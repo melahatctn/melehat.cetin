{
 "cells": [
  {
   "cell_type": "code",
   "execution_count": 4,
   "metadata": {},
   "outputs": [
    {
     "name": "stdout",
     "output_type": "stream",
     "text": [
      "Equation has to be second-order:,(ax**2+b*x+c)\n",
      "Enter the number value of x squared7\n",
      "Enter the number value of x8\n",
      "Enter a fixed number8\n",
      "discriminant : -160\n",
      "root1 : (-0.5714285714285714+0.9035079029052513j)\n",
      "root2 : (-0.5714285714285714-0.9035079029052513j)\n"
     ]
    }
   ],
   "source": [
    "##find second-order equation roots\n",
    "print('Equation has to be second-order:,(ax**2+b*x+c)')\n",
    "a= int(input(\"Enter the number value of x squared\"))\n",
    "b= int(input(\"Enter the number value of x\"))\n",
    "c= int(input(\"Enter a fixed number\"))\n",
    "discriminant=b**2-4*a*c\n",
    "\n",
    "D= ((b**2)-(4*a*c))\n",
    "print('discriminant :',D)\n",
    "\n",
    "X1= ((((-1)*(b)+(D**0.5)))/(2*a))\n",
    "print('root1 :',X1)\n",
    "                  \n",
    "X2=((((-1)*(b)-(D**0.5)))/(2*a))\n",
    "print('root2 :',X2)\n",
    "\n"
   ]
  },
  {
   "cell_type": "code",
   "execution_count": null,
   "metadata": {},
   "outputs": [],
   "source": []
  },
  {
   "cell_type": "code",
   "execution_count": null,
   "metadata": {},
   "outputs": [],
   "source": []
  }
 ],
 "metadata": {
  "kernelspec": {
   "display_name": "Python 3",
   "language": "python",
   "name": "python3"
  },
  "language_info": {
   "codemirror_mode": {
    "name": "ipython",
    "version": 3
   },
   "file_extension": ".py",
   "mimetype": "text/x-python",
   "name": "python",
   "nbconvert_exporter": "python",
   "pygments_lexer": "ipython3",
   "version": "3.6.5"
  }
 },
 "nbformat": 4,
 "nbformat_minor": 2
}
